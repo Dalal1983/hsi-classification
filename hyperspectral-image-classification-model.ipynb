{
 "cells": [
  {
   "cell_type": "markdown",
   "metadata": {},
   "source": [
    "# Hyperspectral Image Classification\n",
    "insert small description here"
   ]
  },
  {
   "cell_type": "code",
   "execution_count": 2,
   "metadata": {
    "scrolled": true
   },
   "outputs": [
    {
     "name": "stderr",
     "output_type": "stream",
     "text": [
      "Using TensorFlow backend.\n"
     ]
    }
   ],
   "source": [
    "import os\n",
    "import random\n",
    "import itertools\n",
    "from random import shuffle\n",
    "import h5py\n",
    "import json\n",
    "\n",
    "import numpy as np\n",
    "import scipy\n",
    "import scipy.io as sio # Scipy input and output\n",
    "import scipy.ndimage \n",
    "from skimage.transform import rotate \n",
    "import spectral # Module for processing hyperspectral image data.\n",
    "import matplotlib \n",
    "%matplotlib inline\n",
    "\n",
    "# scikit-learn imports \n",
    "from sklearn.decomposition import PCA\n",
    "from sklearn.model_selection import train_test_split\n",
    "from sklearn import preprocessing\n",
    "from sklearn.metrics import classification_report, confusion_matrix, cohen_kappa_score\n",
    "\n",
    "# keras imports \n",
    "import keras\n",
    "from keras.layers import Conv2D, Conv3D, Flatten, Dense, Reshape, BatchNormalization, Dropout, Input\n",
    "from keras.models import Model\n",
    "from keras.models import load_model\n",
    "from keras.optimizers import Adam\n",
    "from keras.callbacks import ModelCheckpoint\n",
    "from keras.utils import np_utils\n",
    "\n",
    "\n"
   ]
  },
  {
   "cell_type": "markdown",
   "metadata": {},
   "source": [
    "## Dataset Loading  and Preproccesing\n",
    "\n"
   ]
  },
  {
   "cell_type": "code",
   "execution_count": 3,
   "metadata": {},
   "outputs": [],
   "source": [
    "def  load_dataset(dataset):\n",
    "    \"\"\"load dataset parameters from config.json\"\"\"\n",
    "    \n",
    "    with open('./config.json') as f:\n",
    "        config = json.loads(f.read())\n",
    "        params = config[dataset]\n",
    "        data = sio.loadmat(params['img_path'])[params['img']]\n",
    "        labels = sio.loadmat(params['gt_path'])[params['gt']]\n",
    "        num_classes = params['num_classes']\n",
    "        target_names = params['target_names']\n",
    "        \n",
    "    return data,labels,num_classes,target_names\n",
    "        "
   ]
  },
  {
   "cell_type": "code",
   "execution_count": 4,
   "metadata": {},
   "outputs": [],
   "source": [
    "def apply_pca(X, num_components=75):\n",
    "    \"\"\"apply pca to X and return new_X\"\"\"\n",
    "    \n",
    "    new_X = np.reshape(X, (-1, X.shape[2]))\n",
    "    pca = PCA(n_components=num_components, whiten=True)\n",
    "    new_X = pca.fit_transform(new_X)\n",
    "    new_X = np.reshape(new_X, (X.shape[0],X.shape[1], num_components))\n",
    "    return new_X, pca"
   ]
  },
  {
   "cell_type": "code",
   "execution_count": 5,
   "metadata": {},
   "outputs": [],
   "source": [
    "def pad_with_zeros(X, margin=2):\n",
    "    \"\"\"apply zero padding to X with margin\"\"\"\n",
    "    \n",
    "    new_X = np.zeros((X.shape[0] + 2 * margin, X.shape[1] + 2* margin, X.shape[2]))\n",
    "    x_offset = margin\n",
    "    y_offset = margin\n",
    "    new_X[x_offset:X.shape[0] + x_offset, y_offset:X.shape[1] + y_offset, :] = X\n",
    "    return new_X\n"
   ]
  },
  {
   "cell_type": "code",
   "execution_count": 6,
   "metadata": {},
   "outputs": [],
   "source": [
    "def create_patches(X, y, window_size=5, remove_zero_labels = True):\n",
    "    \"\"\"create patch from image. suppose the image has the shape (w,h,c) then the patch shape is\n",
    "    (w*h,window_size,window_size,c)\"\"\"\n",
    "    \n",
    "    margin = int((window_size - 1) / 2)\n",
    "    zero_padded_X = pad_with_zeros(X, margin=margin)\n",
    "    # split patches\n",
    "    patches_data = np.zeros((X.shape[0] * X.shape[1], window_size, window_size, X.shape[2]))\n",
    "    patchs_labels = np.zeros((X.shape[0] * X.shape[1]))\n",
    "    patch_index = 0\n",
    "    for r in range(margin, zero_padded_X.shape[0] - margin):\n",
    "        for c in range(margin, zero_padded_X.shape[1] - margin):\n",
    "            patch = zero_padded_X[r - margin:r + margin + 1, c - margin:c + margin + 1]   \n",
    "            patches_data[patch_index, :, :, :] = patch\n",
    "            patchs_labels[patch_index] = y[r-margin, c-margin]\n",
    "            patch_index = patch_index + 1\n",
    "    if remove_zero_labels:\n",
    "        patches_data = patches_data[patchs_labels>0,:,:,:]\n",
    "        patchs_labels = patchs_labels[patchs_labels>0]\n",
    "        patchs_labels -= 1\n",
    "    return patches_data, patchs_labels"
   ]
  },
  {
   "cell_type": "code",
   "execution_count": 7,
   "metadata": {},
   "outputs": [],
   "source": [
    "def split_train_test_set(X, y, test_ratio=0.10):\n",
    "    \"\"\"split dataset into train set and test set with test_ratio\"\"\"\n",
    "    X_train, X_test, y_train, y_test = train_test_split(X, y, test_size=test_ratio, random_state=345,\n",
    "                                                        stratify=y)\n",
    "    return X_train, X_test, y_train, y_test\n"
   ]
  },
  {
   "cell_type": "code",
   "execution_count": 8,
   "metadata": {},
   "outputs": [],
   "source": [
    "def oversample_weak_classes(X, y):\n",
    "    \"\"\"\"balance the dataset by prforming oversample of weak classes (making each class have close labels_counts)\"\"\"\n",
    "    unique_labels, labels_counts = np.unique(y, return_counts=True)\n",
    "    \n",
    "\n",
    "    max_count = np.max(labels_counts)\n",
    "    labels_inverse_ratios = max_count / labels_counts  \n",
    "    #print(labels_inverse_ratios)\n",
    "    # repeat for every label and concat\n",
    "    #print(labels_inverse_ratios)\n",
    "    new_X = X[y == unique_labels[0], :, :, :].repeat(round(labels_inverse_ratios[0]), axis=0)\n",
    "    new_Y = y[y == unique_labels[0]].repeat(round(labels_inverse_ratios[0]), axis=0)\n",
    "    for label, labelInverseRatio in zip(unique_labels[1:], labels_inverse_ratios[1:]):\n",
    "        cX = X[y== label,:,:,:].repeat(round(labelInverseRatio), axis=0)\n",
    "        cY = y[y == label].repeat(round(labelInverseRatio), axis=0)\n",
    "        new_X = np.concatenate((new_X, cX))\n",
    "        new_Y = np.concatenate((new_Y, cY))\n",
    "    np.random.seed(seed=42)\n",
    "    rand_perm = np.random.permutation(new_Y.shape[0])\n",
    "    new_X = new_X[rand_perm, :, :, :]\n",
    "    new_Y = new_Y[rand_perm]\n",
    "    unique_labels, labels_counts = np.unique(new_Y, return_counts=True)\n",
    "    \n",
    "#     print(unique_labels.shape)\n",
    "#     print(unique_labels)\n",
    "#     print(labels_counts.shape)\n",
    "#     print(labels_counts)\n",
    "    return new_X, new_Y\n"
   ]
  },
  {
   "cell_type": "code",
   "execution_count": 9,
   "metadata": {},
   "outputs": [],
   "source": [
    "def augment_data(X_train):\n",
    "    \"\"\"augment the data by taking each patch and randomly performing \n",
    "    a flip(up/down or right/left) or a rotation\"\"\"\n",
    "    \n",
    "    for i in range(int(X_train.shape[0]/2)):\n",
    "        patch = X_train[i,:,:,:]\n",
    "        num = random.randint(0,2)\n",
    "        if (num == 0):\n",
    "            \n",
    "            flipped_patch = np.flipud(patch)\n",
    "        if (num == 1):\n",
    "            \n",
    "            flipped_patch = np.fliplr(patch)\n",
    "        if (num == 2):\n",
    "            \n",
    "            no = random.randrange(-180,180,30)\n",
    "            flipped_patch = scipy.ndimage.interpolation.rotate(patch, no,axes=(1, 0),\n",
    "                                                               reshape=False, output=None, order=3, mode='constant', cval=0.0, prefilter=False)\n",
    "    \n",
    "    \n",
    "        patch2 = flipped_patch\n",
    "        X_train[i,:,:,:] = patch2\n",
    "    \n",
    "    return X_train"
   ]
  },
  {
   "cell_type": "code",
   "execution_count": 10,
   "metadata": {},
   "outputs": [],
   "source": [
    "#Parameters\n",
    "dataset = \"PaviaUSh\" # Indian_pines or PaviaU or or Salinas  . check config.json\n",
    "window_size = 15\n",
    "num_pca_components = 3\n",
    "test_ratio = 0.7"
   ]
  },
  {
   "cell_type": "markdown",
   "metadata": {},
   "source": [
    "### Preproccesing steps\n",
    "<!---img src=\"./images/1.png\" alt=\"diagram\">"
   ]
  },
  {
   "cell_type": "code",
   "execution_count": 10,
   "metadata": {},
   "outputs": [
    {
     "name": "stdout",
     "output_type": "stream",
     "text": [
      "Initial (512, 217, 3)\n",
      "Patches (54129, 15, 15, 3) \n",
      "Split (16238, 15, 15, 3)\n",
      "Oversampling (55355, 15, 15, 3)\n",
      "Augmentation (55355, 15, 15, 3)\n"
     ]
    }
   ],
   "source": [
    "X, y , num_classes , target_names = load_dataset(dataset)\n",
    "print(\"Initial {}\".format(X.shape))\n",
    "\n",
    "# X,pca = apply_pca(X,num_pca_components)\n",
    "# print(\"PCA {}\".format(X.shape))\n",
    "\n",
    "X_patches, y_patches = create_patches(X, y, window_size=window_size)\n",
    "print(\"Patches {} \".format(X_patches.shape))\n",
    "\n",
    "X_train, X_test, y_train, y_test = split_train_test_set(X_patches, y_patches, test_ratio)\n",
    "print(\"Split {}\".format(X_train.shape))\n",
    "\n",
    "X_train, y_train = oversample_weak_classes(X_train,y_train)\n",
    "print(\"Oversampling {}\".format(X_train.shape))\n",
    "\n",
    "X_train = augment_data(X_train)\n",
    "print(\"Augmentation {}\".format(X_train.shape))\n",
    "\n",
    "\n",
    "y_train = np_utils.to_categorical(y_train) # convert class labels to on-hot encoding\n",
    "y_test = np_utils.to_categorical(y_test)\n",
    "\n"
   ]
  },
  {
   "cell_type": "markdown",
   "metadata": {},
   "source": [
    "## Defining and Training the model"
   ]
  },
  {
   "cell_type": "code",
   "execution_count": 11,
   "metadata": {},
   "outputs": [
    {
     "data": {
      "text/plain": [
       "(55355, 15, 15, 3, 1)"
      ]
     },
     "execution_count": 11,
     "metadata": {},
     "output_type": "execute_result"
    }
   ],
   "source": [
    "X_train = X_train.reshape(-1,window_size,window_size,3,1)\n",
    "X_test = X_test.reshape(-1,window_size,window_size,3,1)\n",
    "X_train.shape\n"
   ]
  },
  {
   "cell_type": "code",
   "execution_count": 24,
   "metadata": {},
   "outputs": [
    {
     "name": "stdout",
     "output_type": "stream",
     "text": [
      "Model: \"model_2\"\n",
      "_________________________________________________________________\n",
      "Layer (type)                 Output Shape              Param #   \n",
      "=================================================================\n",
      "input_2 (InputLayer)         (None, 15, 15, 3, 1)      0         \n",
      "_________________________________________________________________\n",
      "conv3d_2 (Conv3D)            (None, 13, 13, 1, 8)      224       \n",
      "_________________________________________________________________\n",
      "reshape_2 (Reshape)          (None, 13, 13, 8)         0         \n",
      "_________________________________________________________________\n",
      "conv2d_3 (Conv2D)            (None, 11, 11, 16)        1168      \n",
      "_________________________________________________________________\n",
      "conv2d_4 (Conv2D)            (None, 9, 9, 32)          4640      \n",
      "_________________________________________________________________\n",
      "flatten_2 (Flatten)          (None, 2592)              0         \n",
      "_________________________________________________________________\n",
      "dense_3 (Dense)              (None, 256)               663808    \n",
      "_________________________________________________________________\n",
      "dropout_2 (Dropout)          (None, 256)               0         \n",
      "_________________________________________________________________\n",
      "dense_4 (Dense)              (None, 16)                4112      \n",
      "=================================================================\n",
      "Total params: 673,952\n",
      "Trainable params: 673,952\n",
      "Non-trainable params: 0\n",
      "_________________________________________________________________\n"
     ]
    }
   ],
   "source": [
    "\n",
    "\n",
    "## input layer\n",
    "input_layer = Input((window_size, window_size, 3,1))\n",
    "\n",
    "## convolutional layers\n",
    "conv_layer1 = Conv3D(filters=8, kernel_size=(3, 3, 3), activation='relu')(input_layer)\n",
    "\n",
    "conv3d_shape = conv_layer1._keras_shape\n",
    "conv_layer1 = Reshape((conv3d_shape[1],conv3d_shape[2],conv3d_shape[3]*conv3d_shape[4]))(conv_layer1)\n",
    "\n",
    "\n",
    "conv_layer2 = Conv2D(filters=16,kernel_size=(3,3) ,activation='relu')(conv_layer1)\n",
    "conv_layer3 = Conv2D(filters=32,kernel_size=(3,3),activation='relu')(conv_layer2)\n",
    "\n",
    "flatten_layer = Flatten()(conv_layer3)\n",
    "\n",
    "## fully connected layers\n",
    "dense_layer1 = Dense(units=256,activation='relu')(flatten_layer)\n",
    "dense_layer1 = Dropout(0.4)(dense_layer1)\n",
    "# dense_layer2 = Dense(units=128,activation='relu')(dense_layer1)\n",
    "# dense_layer2 = Dropout(0.4)(dense_layer2)\n",
    "\n",
    "output_layer = Dense(units=num_classes,activation='softmax')(dense_layer1)\n",
    "    \n",
    "model = Model(inputs=input_layer, outputs=output_layer)\n",
    "model.summary()\n",
    "\n",
    "    "
   ]
  },
  {
   "cell_type": "code",
   "execution_count": 25,
   "metadata": {},
   "outputs": [],
   "source": [
    "adam = Adam(lr=0.001,decay=1e-06)\n",
    "model.compile(loss='categorical_crossentropy', optimizer=adam, metrics=['accuracy'])"
   ]
  },
  {
   "cell_type": "code",
   "execution_count": 26,
   "metadata": {},
   "outputs": [
    {
     "name": "stdout",
     "output_type": "stream",
     "text": [
      "Epoch 1/50\n",
      "55355/55355 [==============================] - 20s 360us/step - loss: 21.3651 - accuracy: 0.3351\n",
      "Epoch 2/50\n",
      "55355/55355 [==============================] - 18s 329us/step - loss: 1.4401 - accuracy: 0.5039\n",
      "Epoch 3/50\n",
      "55355/55355 [==============================] - 18s 316us/step - loss: 1.1079 - accuracy: 0.5961\n",
      "Epoch 4/50\n",
      "55355/55355 [==============================] - 19s 336us/step - loss: 0.9338 - accuracy: 0.6540\n",
      "Epoch 5/50\n",
      "55355/55355 [==============================] - 18s 332us/step - loss: 0.8336 - accuracy: 0.6909\n",
      "Epoch 6/50\n",
      "55355/55355 [==============================] - 18s 331us/step - loss: 0.7772 - accuracy: 0.7082\n",
      "Epoch 7/50\n",
      "55355/55355 [==============================] - 18s 324us/step - loss: 0.7127 - accuracy: 0.7314\n",
      "Epoch 8/50\n",
      "55355/55355 [==============================] - 18s 327us/step - loss: 0.6962 - accuracy: 0.7391\n",
      "Epoch 9/50\n",
      "55355/55355 [==============================] - 18s 331us/step - loss: 0.6587 - accuracy: 0.7507\n",
      "Epoch 10/50\n",
      "55355/55355 [==============================] - 19s 335us/step - loss: 0.6140 - accuracy: 0.7674\n",
      "Epoch 11/50\n",
      "55355/55355 [==============================] - 19s 340us/step - loss: 0.5908 - accuracy: 0.7726\n",
      "Epoch 12/50\n",
      "55355/55355 [==============================] - 18s 326us/step - loss: 0.5694 - accuracy: 0.7867\n",
      "Epoch 13/50\n",
      "55355/55355 [==============================] - 18s 327us/step - loss: 0.5363 - accuracy: 0.7966\n",
      "Epoch 14/50\n",
      "55355/55355 [==============================] - 17s 298us/step - loss: 0.5256 - accuracy: 0.8021\n",
      "Epoch 15/50\n",
      "55355/55355 [==============================] - 18s 319us/step - loss: 0.4998 - accuracy: 0.8077\n",
      "Epoch 16/50\n",
      "55355/55355 [==============================] - 20s 356us/step - loss: 0.4721 - accuracy: 0.8167\n",
      "Epoch 17/50\n",
      "55355/55355 [==============================] - 18s 330us/step - loss: 0.4655 - accuracy: 0.8203\n",
      "Epoch 18/50\n",
      "55355/55355 [==============================] - 18s 327us/step - loss: 0.4674 - accuracy: 0.8231\n",
      "Epoch 19/50\n",
      "55355/55355 [==============================] - 18s 324us/step - loss: 0.4555 - accuracy: 0.8301\n",
      "Epoch 20/50\n",
      "55355/55355 [==============================] - 18s 332us/step - loss: 0.4244 - accuracy: 0.8352\n",
      "Epoch 21/50\n",
      "55355/55355 [==============================] - 18s 323us/step - loss: 0.4355 - accuracy: 0.8355\n",
      "Epoch 22/50\n",
      "55355/55355 [==============================] - 18s 324us/step - loss: 0.5761 - accuracy: 0.7855\n",
      "Epoch 23/50\n",
      "55355/55355 [==============================] - 18s 327us/step - loss: 0.4273 - accuracy: 0.8323\n",
      "Epoch 24/50\n",
      "55355/55355 [==============================] - 18s 326us/step - loss: 0.3855 - accuracy: 0.8494\n",
      "Epoch 25/50\n",
      "55355/55355 [==============================] - 18s 330us/step - loss: 0.4254 - accuracy: 0.8368\n",
      "Epoch 26/50\n",
      "55355/55355 [==============================] - 18s 320us/step - loss: 0.3965 - accuracy: 0.8477\n",
      "Epoch 27/50\n",
      "55355/55355 [==============================] - 18s 325us/step - loss: 0.3735 - accuracy: 0.8534\n",
      "Epoch 28/50\n",
      "55355/55355 [==============================] - 18s 325us/step - loss: 0.3642 - accuracy: 0.8579\n",
      "Epoch 29/50\n",
      "55355/55355 [==============================] - 18s 323us/step - loss: 0.3280 - accuracy: 0.8694\n",
      "Epoch 30/50\n",
      "55355/55355 [==============================] - 18s 321us/step - loss: 0.3701 - accuracy: 0.8548\n",
      "Epoch 31/50\n",
      "55355/55355 [==============================] - 18s 321us/step - loss: 0.3159 - accuracy: 0.8719\n",
      "Epoch 32/50\n",
      "55355/55355 [==============================] - 17s 311us/step - loss: 0.3147 - accuracy: 0.8748\n",
      "Epoch 33/50\n",
      "55355/55355 [==============================] - 17s 303us/step - loss: 0.3669 - accuracy: 0.8588\n",
      "Epoch 34/50\n",
      "55355/55355 [==============================] - 16s 292us/step - loss: 0.3313 - accuracy: 0.8689\n",
      "Epoch 35/50\n",
      "55355/55355 [==============================] - 18s 333us/step - loss: 0.3631 - accuracy: 0.8628\n",
      "Epoch 36/50\n",
      "55355/55355 [==============================] - 18s 317us/step - loss: 0.2951 - accuracy: 0.8815\n",
      "Epoch 37/50\n",
      "55355/55355 [==============================] - 16s 292us/step - loss: 0.3239 - accuracy: 0.8698\n",
      "Epoch 38/50\n",
      "55355/55355 [==============================] - 17s 299us/step - loss: 0.5891 - accuracy: 0.7901\n",
      "Epoch 39/50\n",
      "55355/55355 [==============================] - 18s 322us/step - loss: 0.4739 - accuracy: 0.8196\n",
      "Epoch 40/50\n",
      "55355/55355 [==============================] - 17s 308us/step - loss: 0.3717 - accuracy: 0.8514\n",
      "Epoch 41/50\n",
      "55355/55355 [==============================] - 17s 309us/step - loss: 0.3579 - accuracy: 0.8567\n",
      "Epoch 42/50\n",
      "55355/55355 [==============================] - 17s 303us/step - loss: 0.3415 - accuracy: 0.8615\n",
      "Epoch 43/50\n",
      "55355/55355 [==============================] - 18s 324us/step - loss: 0.3539 - accuracy: 0.8615\n",
      "Epoch 44/50\n",
      "55355/55355 [==============================] - 18s 317us/step - loss: 0.3235 - accuracy: 0.8697\n",
      "Epoch 45/50\n",
      "55355/55355 [==============================] - 16s 291us/step - loss: 0.3107 - accuracy: 0.8743\n",
      "Epoch 46/50\n",
      "55355/55355 [==============================] - 17s 302us/step - loss: 0.2797 - accuracy: 0.8839\n",
      "Epoch 47/50\n",
      "55355/55355 [==============================] - 17s 310us/step - loss: 0.2752 - accuracy: 0.8864\n",
      "Epoch 48/50\n",
      "55355/55355 [==============================] - 17s 308us/step - loss: 0.3112 - accuracy: 0.8758\n",
      "Epoch 49/50\n",
      "55355/55355 [==============================] - 17s 310us/step - loss: 0.2842 - accuracy: 0.8840\n",
      "Epoch 50/50\n",
      "55355/55355 [==============================] - 17s 313us/step - loss: 0.3333 - accuracy: 0.8698\n"
     ]
    },
    {
     "data": {
      "text/plain": [
       "<keras.callbacks.callbacks.History at 0x7f824f2b0bd0>"
      ]
     },
     "execution_count": 26,
     "metadata": {},
     "output_type": "execute_result"
    }
   ],
   "source": [
    "model.fit(X_train, y_train, batch_size=256, epochs=50)"
   ]
  },
  {
   "cell_type": "code",
   "execution_count": 27,
   "metadata": {},
   "outputs": [],
   "source": [
    "model.save('./saved_models/lab/model_hybrid_aug_{}_{}_{}_{}.h5'.format(dataset,window_size,num_pca_components,test_ratio))"
   ]
  },
  {
   "cell_type": "markdown",
   "metadata": {},
   "source": [
    "## Model Validation"
   ]
  },
  {
   "cell_type": "code",
   "execution_count": 28,
   "metadata": {},
   "outputs": [],
   "source": [
    "model.load_weights('./saved_models/lab/model_hybrid_aug_{}_{}_{}_{}.h5'.format(dataset,window_size,num_pca_components,test_ratio))"
   ]
  },
  {
   "cell_type": "code",
   "execution_count": 29,
   "metadata": {},
   "outputs": [],
   "source": [
    "def generate_report (X_test,y_test):\n",
    "    Y_pred = model.predict(X_test)\n",
    "    y_pred = np.argmax(Y_pred, axis=1)\n",
    "    \n",
    "    classification = classification_report(np.argmax(y_test, axis=1), y_pred, target_names=target_names)\n",
    "    confusion = confusion_matrix(np.argmax(y_test, axis=1), y_pred)\n",
    "    score = model.evaluate(X_test, y_test, batch_size=32)\n",
    "    test_Loss =  score[0]*100\n",
    "    test_accuracy = score[1]*100\n",
    "    \n",
    "    return classification, confusion, test_Loss, test_accuracy\n"
   ]
  },
  {
   "cell_type": "code",
   "execution_count": 30,
   "metadata": {},
   "outputs": [],
   "source": [
    "def show_report(classification, confusion, test_loss, test_accuracy) :\n",
    "    \n",
    "    classification = str(classification)\n",
    "    confusion = str(confusion)\n",
    "\n",
    "    report = '{} Test loss (%)'.format(test_loss)\n",
    "    report += '\\n'\n",
    "    report += '{} Test accuracy (%)'.format(test_accuracy)\n",
    "    report += '\\n'\n",
    "    report += '\\n'\n",
    "    report += '{}'.format(classification)\n",
    "    report += '\\n'\n",
    "    report += '{}'.format(confusion)\n",
    "    print(report)\n",
    "    \n",
    "    return report\n",
    "    "
   ]
  },
  {
   "cell_type": "code",
   "execution_count": 31,
   "metadata": {},
   "outputs": [],
   "source": [
    "def save_report(report):\n",
    "    file_name = 'report_hybrid_{}_{}_{}_{}.txt'.format(dataset,window_size,num_pca_components,test_ratio)\n",
    "    with open('./reports/{}'.format(file_name), 'w') as report_file:\n",
    "        report_file.write(report)\n",
    "        print(\"\\n\\nReport saved to {}\".format(file_name))\n",
    "    return \n",
    "    "
   ]
  },
  {
   "cell_type": "code",
   "execution_count": 32,
   "metadata": {},
   "outputs": [],
   "source": [
    "def get_patch(data,height_index,width_index):\n",
    "    #transpose_array = data.transpose((2,0,1))\n",
    "    #print transpose_array.shape\n",
    "    height_slice = slice(height_index, height_index+patch_size)\n",
    "    width_slice = slice(width_index, width_index+patch_size)\n",
    "    patch = data[height_slice, width_slice, :]\n",
    "    \n",
    "    return patch"
   ]
  },
  {
   "cell_type": "code",
   "execution_count": 33,
   "metadata": {},
   "outputs": [
    {
     "name": "stdout",
     "output_type": "stream",
     "text": [
      "37891/37891 [==============================] - 6s 154us/step\n",
      "37.3450230612892 Test loss (%)\n",
      "80.85824847221375 Test accuracy (%)\n",
      "\n",
      "                           precision    recall  f1-score   support\n",
      "\n",
      "    Brocoli_green_weeds_1       0.97      0.94      0.95      1406\n",
      "    Brocoli_green_weeds_2       0.96      0.98      0.97      2608\n",
      "                   Fallow       0.99      0.93      0.96      1383\n",
      "        Fallow_rough_plow       0.98      1.00      0.99       976\n",
      "            Fallow_smooth       1.00      0.98      0.99      1875\n",
      "                  Stubble       0.98      1.00      0.99      2771\n",
      "                   Celery       0.99      0.99      0.99      2505\n",
      "         Grapes_untrained       0.97      0.24      0.38      7890\n",
      "     Soil_vinyard_develop       0.96      0.98      0.97      4342\n",
      "Corn_senesced_green_weeds       0.96      0.92      0.94      2295\n",
      "      Lettuce_romaine_4wk       0.98      0.98      0.98       748\n",
      "      Lettuce_romaine_5wk       0.93      0.99      0.96      1349\n",
      "      Lettuce_romaine_6wk       0.97      0.96      0.96       641\n",
      "      Lettuce_romaine_7wk       0.85      1.00      0.92       749\n",
      "        Vinyard_untrained       0.45      0.98      0.61      5088\n",
      " Vinyard_vertical_trellis       0.75      0.56      0.64      1265\n",
      "\n",
      "                 accuracy                           0.81     37891\n",
      "                macro avg       0.92      0.90      0.89     37891\n",
      "             weighted avg       0.89      0.81      0.79     37891\n",
      "\n",
      "[[1317   86    0    0    0    0    3    0    0    0    0    0    0    0\n",
      "     0    0]\n",
      " [  39 2559    0    0    0    0    9    0    0    0    0    0    0    0\n",
      "     0    1]\n",
      " [   0    0 1283    4    3    0    0    0    0    0   10   82    1    0\n",
      "     0    0]\n",
      " [   0    0    3  973    0    0    0    0    0    0    0    0    0    0\n",
      "     0    0]\n",
      " [   0    0    9   15 1842    0    0    0    0    1    0    0    0    0\n",
      "     7    1]\n",
      " [   0    0    0    0    0 2771    0    0    0    0    0    0    0    0\n",
      "     0    0]\n",
      " [   0   10    0    0    0    2 2489    1    0    0    0    0    0    1\n",
      "     0    2]\n",
      " [   0    0    1    0    2   59   10 1891    0    0    1    4   15   85\n",
      "  5623  199]\n",
      " [   0    0    3    0    0    1    0    0 4251   87    0    0    0    0\n",
      "     0    0]\n",
      " [   0    0    0    0    0    1    1    0  156 2122    0    0    1   14\n",
      "     0    0]\n",
      " [   0    0    0    0    0    0    0    0    1    0  734   13    0    0\n",
      "     0    0]\n",
      " [   0    0    0    3    0    0    0    0    0    0    4 1342    0    0\n",
      "     0    0]\n",
      " [   0    0    0    1    0    0    0    0    0    0    0    0  615   25\n",
      "     0    0]\n",
      " [   0    0    0    0    0    0    0    0    0    0    0    0    0  749\n",
      "     0    0]\n",
      " [   0    0    2    0    0    0    2   34    0   11    0    0    4    4\n",
      "  4995   36]\n",
      " [   0    0    0    0    0    0    4   25    0    0    0    0    0    0\n",
      "   531  705]]\n",
      "\n",
      "\n",
      "Report saved to report_hybrid_SalinasSh_15_3_0.7.txt\n"
     ]
    }
   ],
   "source": [
    "# Using the pretrained model make predictions and print the results into a reportclassification, confusion, test_loss, test_accuracy = generate_report(X_test,y_test)\n",
    "\n",
    "classification, confusion, test_Loss, test_accuracy = generate_report(X_test,y_test)\n",
    "report = show_report(classification, confusion, test_Loss, test_accuracy)\n",
    "save_report(report)\n"
   ]
  },
  {
   "cell_type": "markdown",
   "metadata": {},
   "source": [
    "## Building the Classification Maps"
   ]
  },
  {
   "cell_type": "code",
   "execution_count": 24,
   "metadata": {},
   "outputs": [],
   "source": [
    "# load the original image\n",
    "dataset=\"SalinasSh\"\n",
    "X, y , num_classes,target_names= load_dataset(dataset)\n",
    "# X,pca = apply_pca(X,num_pca_components)\n",
    "height = y.shape[0]\n",
    "width = y.shape[1]\n",
    "patch_size = window_size\n",
    "\n"
   ]
  },
  {
   "cell_type": "code",
   "execution_count": 25,
   "metadata": {},
   "outputs": [],
   "source": [
    "def generate_pridected_image():\n",
    "    \"\"\"generate the predicted image\"\"\"\n",
    "    outputs = np.zeros((height,width))\n",
    "\n",
    "    for i in range(height-patch_size+1):\n",
    "        for j in range(width-patch_size+1):\n",
    "            target = y[int(i+patch_size/2), int(j+patch_size/2)]\n",
    "            if target == 0 :\n",
    "                continue\n",
    "            else :\n",
    "                image_patch=get_patch(X,i,j)    \n",
    "                X_test_image = image_patch.reshape(1,image_patch.shape[0],image_patch.shape[1],image_patch.shape[2]).astype('float32')                                   \n",
    "                X_test_image = X_test_image.reshape(-1,window_size,window_size,3,1)\n",
    "                prediction = (model.predict(X_test_image))\n",
    "                prediction= np.argmax(prediction,axis=1)\n",
    " \n",
    "                outputs[int(i+patch_size/2)][int(j+patch_size/2)] = prediction+1\n",
    "    return outputs.astype(int)"
   ]
  },
  {
   "cell_type": "code",
   "execution_count": 26,
   "metadata": {},
   "outputs": [
    {
     "data": {
      "image/png": "[encoded data removed]",
      "text/plain": [
       "<Figure size 360x360 with 1 Axes>"
      ]
     },
     "metadata": {
      "needs_background": "light"
     },
     "output_type": "display_data"
    }
   ],
   "source": [
    "# Plot the Ground Truth Image\n",
    "ground_truth = spectral.imshow(classes = y,figsize =(5,5))"
   ]
  },
  {
   "cell_type": "code",
   "execution_count": 27,
   "metadata": {
    "scrolled": true
   },
   "outputs": [
    {
     "data": {
      "image/png": "[encoded data removed]",
      "text/plain": [
       "<Figure size 360x360 with 1 Axes>"
      ]
     },
     "metadata": {
      "needs_background": "light"
     },
     "output_type": "display_data"
    }
   ],
   "source": [
    "# Plot the Predicted image\n",
    "outputs=generate_pridected_image()\n",
    "predict_image = spectral.imshow(classes = generate_pridected_image().astype(int),figsize =(5,5))"
   ]
  },
  {
   "cell_type": "code",
   "execution_count": null,
   "metadata": {},
   "outputs": [],
   "source": []
  },
  {
   "cell_type": "code",
   "execution_count": null,
   "metadata": {},
   "outputs": [],
   "source": []
  },
  {
   "cell_type": "code",
   "execution_count": null,
   "metadata": {},
   "outputs": [],
   "source": []
  }
 ],
 "metadata": {
  "environment": {
   "name": "tf2-2-2-gpu.2-2.m48",
   "type": "gcloud",
   "uri": "gcr.io/deeplearning-platform-release/tf2-2-2-gpu.2-2:m48"
  },
  "kernelspec": {
   "display_name": "Python 3",
   "language": "python",
   "name": "python3"
  },
  "language_info": {
   "codemirror_mode": {
    "name": "ipython",
    "version": 3
   },
   "file_extension": ".py",
   "mimetype": "text/x-python",
   "name": "python",
   "nbconvert_exporter": "python",
   "pygments_lexer": "ipython3",
   "version": "3.7.6"
  }
 },
 "nbformat": 4,
 "nbformat_minor": 4
}
